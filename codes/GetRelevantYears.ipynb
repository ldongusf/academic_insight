{
 "cells": [
  {
   "cell_type": "code",
   "execution_count": 331,
   "metadata": {
    "collapsed": false
   },
   "outputs": [],
   "source": [
    "class SchoolAndSize:\n",
    "    def __init__(self, school, enrollment, doc):\n",
    "        self.school = school\n",
    "        self.doc = doc\n",
    "        if enrollment != '':\n",
    "            temp = float(enrollment)\n",
    "            self.enrollment = int(temp)\n",
    "        else:\n",
    "            self.enrollment = 0\n",
    "        \n",
    "    def getSchool(self):\n",
    "        return self.school\n",
    "    \n",
    "    def getDoc(self):\n",
    "        return self.doc\n",
    "    \n",
    "    def getEnrollment(self):\n",
    "        return self.enrollment\n",
    "    \n",
    "    def __cmp__(self, other):\n",
    "        if hasattr(other, 'enrollment'):\n",
    "            return self.enrollment.__cmp__(other.getEnrollment())"
   ]
  },
  {
   "cell_type": "code",
   "execution_count": 332,
   "metadata": {
    "collapsed": false
   },
   "outputs": [],
   "source": [
    "class MetricInfo:\n",
    "    def __init__(self, school, value, metric, year, doc):\n",
    "        self.school = school\n",
    "        self.value = value\n",
    "        self.metric = metric\n",
    "        self.year = year\n",
    "        self.doc = doc\n",
    "    \n",
    "    def getSchool(self):\n",
    "        return self.school\n",
    "    \n",
    "    def getValue(self):\n",
    "        return self.value\n",
    "    \n",
    "    def getMetric(self):\n",
    "        return self.metric\n",
    "    \n",
    "    def getYear(self):\n",
    "        return self.year\n",
    "    \n",
    "    def getDoc(self):\n",
    "        return self.doc\n",
    "    "
   ]
  },
  {
   "cell_type": "code",
   "execution_count": 333,
   "metadata": {
    "collapsed": false
   },
   "outputs": [],
   "source": [
    "import csv\n",
    "#DICTIONARY = {}\n",
    "SCHOOLDICT = []\n",
    "ENROLLMENTSIZE = []\n",
    "files = ['A-H.csv', 'I-L.csv', 'M-NewMexico.csv', 'NewYork-O.csv', 'P-T.csv','U-Z.csv']\n",
    "for x in files:   \n",
    "    with open(x, 'r') as csvfile:\n",
    "        reader = csv.reader(csvfile)\n",
    "        for row in reader:\n",
    "            if row[2] == 'Full-time enrollment' and row[3] == '2005':\n",
    "                ENROLLMENTSIZE.append(SchoolAndSize(row[0], row[1], x))\n",
    "            if row[3] == '2005' or row[3] == '2015':\n",
    "                SCHOOLDICT.append(MetricInfo(row[0], row[1], row[2], row[3], x))\n",
    "                #if (row[0] in DICTIONARY):  \n",
    "                #    DICTIONARY[row[0]].append(MetricInfo(row[1], row[2], row[3], x))\n",
    "                #else:\n",
    "                #    DICTIONARY[row[0]] = [MetricInfo(row[1], row[2], row[3], x)]\n"
   ]
  },
  {
   "cell_type": "code",
   "execution_count": 334,
   "metadata": {
    "collapsed": false
   },
   "outputs": [],
   "source": [
    "with open('new.csv', 'w') as csvoutput:\n",
    "    writer = csv.writer(csvoutput)\n",
    "    writer.writerow(['Name', 'Value', 'Metric', 'Year', 'Doc'])\n",
    "    #for metricInfo in DICTIONARY:\n",
    "    #    for val in DICTIONARY[metricInfo]:\n",
    "    #        writer.writerow([metricInfo, val.getValue(), val.getMetric(), val.getYear(), val.getDoc()])\n",
    "    for metricInfo in SCHOOLDICT:\n",
    "        writer.writerow([metricInfo.getSchool(), metricInfo.getValue(), metricInfo.getMetric(), metricInfo.getYear(), metricInfo.getDoc()])"
   ]
  },
  {
   "cell_type": "code",
   "execution_count": 335,
   "metadata": {
    "collapsed": false
   },
   "outputs": [],
   "source": [
    "ENROLLMENTSIZE.sort()\n",
    "with open('SizeData.csv', 'w') as csvoutput:\n",
    "    writer = csv.writer(csvoutput)\n",
    "    writer.writerow(['Name', 'Size', 'Doc'])\n",
    "    for sas in ENROLLMENTSIZE:\n",
    "        writer.writerow([sas.getSchool(), sas.getEnrollment(), sas.getDoc()])\n"
   ]
  },
  {
   "cell_type": "code",
   "execution_count": 336,
   "metadata": {
    "collapsed": false
   },
   "outputs": [
    {
     "name": "stdout",
     "output_type": "stream",
     "text": [
      "1024\n",
      "790528\n",
      "old St. John's College M-NewMexico.csv\n",
      "new St. John's College M-NewMexico.csv\n",
      "old Concordia University NewYork-O.csv\n",
      "new Concordia University M-NewMexico.csv\n",
      "old Sterling College U-Z.csv\n",
      "new Sterling College I-L.csv\n",
      "old Concordia College A-H.csv\n",
      "new Concordia College NewYork-O.csv\n",
      "old Union College I-L.csv\n",
      "new Union College M-NewMexico.csv\n",
      "old Bethany College I-L.csv\n",
      "new Bethany College U-Z.csv\n",
      "old Columbia College M-NewMexico.csv\n",
      "new Columbia College P-T.csv\n",
      "old St. Joseph's College I-L.csv\n",
      "new St. Joseph's College M-NewMexico.csv\n",
      "old Concordia University NewYork-O.csv\n",
      "new Concordia University M-NewMexico.csv\n",
      "old Emmanuel College A-H.csv\n",
      "new Emmanuel College M-NewMexico.csv\n",
      "old Marian University I-L.csv\n",
      "new Marian University U-Z.csv\n",
      "old Concordia University NewYork-O.csv\n",
      "new Concordia University A-H.csv\n",
      "old Bethel College I-L.csv\n",
      "new Bethel College I-L.csv\n",
      "old Westminster College M-NewMexico.csv\n",
      "new Westminster College P-T.csv\n",
      "old Aquinas College P-T.csv\n",
      "new Aquinas College M-NewMexico.csv\n",
      "old Westminster College M-NewMexico.csv\n",
      "new Westminster College U-Z.csv\n",
      "old Anderson University P-T.csv\n",
      "new Anderson University I-L.csv\n",
      "old Union College I-L.csv\n",
      "new Union College NewYork-O.csv\n",
      "old Augustana College P-T.csv\n",
      "new Augustana College I-L.csv\n",
      "old Wheaton College M-NewMexico.csv\n",
      "new Wheaton College I-L.csv\n",
      "old Bethel University P-T.csv\n",
      "new Bethel University M-NewMexico.csv\n",
      "old University of St. Thomas P-T.csv\n",
      "new University of St. Thomas M-NewMexico.csv\n",
      "old Robert Morris University P-T.csv\n",
      "new Robert Morris University I-L.csv\n",
      "old St. John's University M-NewMexico.csv\n",
      "new St. John's University NewYork-O.csv\n"
     ]
    }
   ],
   "source": [
    "print len(ENROLLMENTSIZE)\n",
    "print len(SCHOOLDICT)\n",
    "\n",
    "#for info in ENROLLMENTSIZE:\n",
    " #   print info.getSchool()\n",
    "\n",
    "TEMP ={}\n",
    "for info in ENROLLMENTSIZE:\n",
    "    if info.getSchool() in TEMP:\n",
    "        print \"old \" + info.getSchool() + \" \" + TEMP[info.getSchool()]\n",
    "        print \"new \" + info.getSchool() + \" \" + info.getDoc()\n",
    "    else:\n",
    "        TEMP[info.getSchool()] = info.getDoc()\n",
    "\n"
   ]
  },
  {
   "cell_type": "code",
   "execution_count": null,
   "metadata": {
    "collapsed": true
   },
   "outputs": [],
   "source": []
  }
 ],
 "metadata": {
  "kernelspec": {
   "display_name": "Python 2",
   "language": "python",
   "name": "python2"
  },
  "language_info": {
   "codemirror_mode": {
    "name": "ipython",
    "version": 2
   },
   "file_extension": ".py",
   "mimetype": "text/x-python",
   "name": "python",
   "nbconvert_exporter": "python",
   "pygments_lexer": "ipython2",
   "version": "2.7.10"
  }
 },
 "nbformat": 4,
 "nbformat_minor": 0
}
